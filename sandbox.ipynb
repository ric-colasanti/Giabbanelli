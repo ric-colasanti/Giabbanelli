{
 "cells": [
  {
   "cell_type": "code",
   "execution_count": 5,
   "id": "470ec1d1-fc8b-4c1c-a298-e3e8220e3617",
   "metadata": {},
   "outputs": [],
   "source": [
    "import math"
   ]
  },
  {
   "cell_type": "code",
   "execution_count": 13,
   "id": "debc4b93-23b9-46b5-9129-1bdf41bf2252",
   "metadata": {},
   "outputs": [],
   "source": [
    "\n",
    "array = [i for i in range(100)]"
   ]
  },
  {
   "cell_type": "code",
   "execution_count": 17,
   "id": "033cae30-8e81-45f2-a996-b9643befdd75",
   "metadata": {},
   "outputs": [],
   "source": [
    "def bounds(v,m):\n",
    "    if v<0:\n",
    "        return m+v\n",
    "    if v>=m:\n",
    "        return v-m\n",
    "    return v\n",
    "    "
   ]
  },
  {
   "cell_type": "code",
   "execution_count": 27,
   "id": "e49e6817-5d63-409e-b4f8-c109dbe4233b",
   "metadata": {},
   "outputs": [
    {
     "name": "stdout",
     "output_type": "stream",
     "text": [
      "0 0 0\n",
      "   3 0 12\n",
      "   1 0 4\n",
      "   0 3 3\n",
      "   0 1 1\n",
      "1 0 1\n",
      "   3 1 13\n",
      "   1 1 5\n",
      "   0 0 0\n",
      "   0 2 2\n",
      "2 0 2\n",
      "   3 2 14\n",
      "   1 2 6\n",
      "   0 1 1\n",
      "   0 3 3\n",
      "3 0 3\n",
      "   3 3 15\n",
      "   1 3 7\n",
      "   0 2 2\n",
      "   0 0 0\n",
      "4 1 0\n",
      "   0 0 0\n",
      "   2 0 8\n",
      "   1 3 7\n",
      "   1 1 5\n",
      "5 1 1\n",
      "   0 1 1\n",
      "   2 1 9\n",
      "   1 0 4\n",
      "   1 2 6\n",
      "6 1 2\n",
      "   0 2 2\n",
      "   2 2 10\n",
      "   1 1 5\n",
      "   1 3 7\n",
      "7 1 3\n",
      "   0 3 3\n",
      "   2 3 11\n",
      "   1 2 6\n",
      "   1 0 4\n",
      "8 2 0\n",
      "   1 0 4\n",
      "   3 0 12\n",
      "   2 3 11\n",
      "   2 1 9\n",
      "9 2 1\n",
      "   1 1 5\n",
      "   3 1 13\n",
      "   2 0 8\n",
      "   2 2 10\n",
      "10 2 2\n",
      "   1 2 6\n",
      "   3 2 14\n",
      "   2 1 9\n",
      "   2 3 11\n",
      "11 2 3\n",
      "   1 3 7\n",
      "   3 3 15\n",
      "   2 2 10\n",
      "   2 0 8\n",
      "12 3 0\n",
      "   2 0 8\n",
      "   0 0 0\n",
      "   3 3 15\n",
      "   3 1 13\n",
      "13 3 1\n",
      "   2 1 9\n",
      "   0 1 1\n",
      "   3 0 12\n",
      "   3 2 14\n",
      "14 3 2\n",
      "   2 2 10\n",
      "   0 2 2\n",
      "   3 1 13\n",
      "   3 3 15\n",
      "15 3 3\n",
      "   2 3 11\n",
      "   0 3 3\n",
      "   3 2 14\n",
      "   3 0 12\n"
     ]
    }
   ],
   "source": [
    "array = [i for i in range(16)]\n",
    "\n",
    "def bounds(v,m):\n",
    "    if v<0:\n",
    "        return m+v\n",
    "    if v>=m:\n",
    "        return v-m\n",
    "    return v\n",
    "\n",
    "for a in array:\n",
    "    x=int(math.floor(a/4))\n",
    "    y=a%4\n",
    "    print(a,x,y)\n",
    "    print(\"  \",bounds(x-1,4), bounds(y,4),bounds(x-1,4)*4 + bounds(y,4)%4)\n",
    "    print(\"  \",bounds(x+1,4), bounds(y,4),bounds(x+1,4)*4 + bounds(y,4)%4)\n",
    "    print(\"  \",bounds(x,4), bounds(y-1,4),bounds(x,4)*4 + bounds(y-1,4)%4)\n",
    "    print(\"  \",bounds(x,4), bounds(y+1,4),bounds(x,4)*4 + bounds(y+1,4)%4)\n",
    "    "
   ]
  },
  {
   "cell_type": "code",
   "execution_count": null,
   "id": "12c712cd-4c63-426f-bb49-c73510c7cc98",
   "metadata": {},
   "outputs": [],
   "source": []
  }
 ],
 "metadata": {
  "kernelspec": {
   "display_name": "Python 3 (ipykernel)",
   "language": "python",
   "name": "python3"
  },
  "language_info": {
   "codemirror_mode": {
    "name": "ipython",
    "version": 3
   },
   "file_extension": ".py",
   "mimetype": "text/x-python",
   "name": "python",
   "nbconvert_exporter": "python",
   "pygments_lexer": "ipython3",
   "version": "3.9.2"
  }
 },
 "nbformat": 4,
 "nbformat_minor": 5
}
