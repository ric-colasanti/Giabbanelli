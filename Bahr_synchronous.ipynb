{
 "cells": [
  {
   "cell_type": "code",
   "execution_count": 1,
   "id": "acf68425-e18c-403a-8129-f60153fcd5db",
   "metadata": {},
   "outputs": [],
   "source": [
    "import math\n",
    "import random as rnd\n",
    "import matplotlib.pyplot as plt\n",
    "import networkx as nx\n",
    "import numpy as np\n",
    "import pandas as pd\n",
    "from IPython.display import clear_output\n",
    "import time\n",
    "from scipy import stats\n",
    "\n",
    "dbug = True\n",
    "plt.rcParams[\"figure.figsize\"] = (10,10)  "
   ]
  },
  {
   "cell_type": "code",
   "execution_count": 2,
   "id": "5892a08e-5c9c-4a2b-bd8a-5a22580559ed",
   "metadata": {},
   "outputs": [],
   "source": [
    "class Agent:\n",
    "    t_now = 0\n",
    "    t_next = 1\n",
    "    \n",
    "    @staticmethod\n",
    "    def tick():\n",
    "        Agent.t_next,Agent.t_now = Agent.t_now, Agent.t_next    \n",
    "    \n",
    "    @staticmethod\n",
    "    def reset():\n",
    "        Agent.t_now = 0\n",
    "        Agent.t_next = 1\n",
    "\n",
    "    def __init__(self,id,state):\n",
    "        self.id = id\n",
    "        self._state = [state,0]\n",
    "        self.links = []\n",
    "        \n",
    "    @property\n",
    "    def state(self):\n",
    "        return self._state[Agent.t_now]\n",
    "    \n",
    "    @state.setter\n",
    "    def state(self,state):\n",
    "        self._state[Agent.t_next] = state\n",
    "        \n",
    "    def add_link(self,agent):\n",
    "        if agent not in self.links:\n",
    "            self.links.append(agent)\n",
    "            \n",
    "    def majority(self):\n",
    "        states = [a.state for a in self.links]\n",
    "        new_state = self.state\n",
    "        if len(states)>0:\n",
    "            items = set(states)\n",
    "            c_max= 0\n",
    "            point = 0\n",
    "            for i in items:\n",
    "                c = states.count(i)\n",
    "                if (c> c_max) or (c==c_max and rnd.random()<0.5) :\n",
    "                    c_max = c\n",
    "                    point = i\n",
    "            new_state = point\n",
    "        self.state = new_state \n",
    "                \n",
    "                \n",
    "                \n",
    "        \n",
    "        "
   ]
  },
  {
   "cell_type": "code",
   "execution_count": 3,
   "id": "f2517f44-9e61-4948-93eb-e8db16a30807",
   "metadata": {},
   "outputs": [],
   "source": [
    "class Population:\n",
    "    def __init__(self,number_of_agents,number_of_links):\n",
    "        Agent.reset()\n",
    "        self.agents= [Agent(i,rnd.randint(0,3)) for i in range(number_of_agents)]\n",
    "        self.network = nx.erdos_renyi_graph(number_of_agents,number_of_links/number_of_agents)\n",
    "        edges = list(self.network.edges())\n",
    "        #self.pos = nx.spring_layout(self.network)\n",
    "        self.pos = nx.random_layout(self.network)\n",
    "        for edge in edges:\n",
    "            a1 = self.agents[edge[0]]\n",
    "            a2 = self.agents[edge[1]]\n",
    "            a1.add_link(a2)\n",
    "            a2.add_link(a1)\n",
    "        Agent.tick()\n",
    "    \n",
    "    def iterate(self):\n",
    "        for a in self.agents:\n",
    "            a.majority()\n",
    "        Agent.tick()\n",
    "            \n",
    "    def draw_network(self):\n",
    "        cols = [\"red\",\"green\",\"blue\",\"yellow\"]\n",
    "        colors = [cols[a.state] for a in self.agents]\n",
    "        nx.draw_networkx(self.network,pos=self.pos,node_color = colors, with_labels=False, node_size=50,width=0.2,font_size=8) \n",
    "        plt.show()"
   ]
  },
  {
   "cell_type": "code",
   "execution_count": 6,
   "id": "22c566b2",
   "metadata": {},
   "outputs": [
    {
     "data": {
      "image/png": "[encoded data removed]",
      "text/plain": [
       "<Figure size 720x720 with 1 Axes>"
      ]
     },
     "metadata": {},
     "output_type": "display_data"
    },
    {
     "name": "stdout",
     "output_type": "stream",
     "text": [
      "done\n"
     ]
    }
   ],
   "source": [
    "population = Population(10,2)\n",
    "print(\"Start\")\n",
    "Agent.tick()\n",
    "for _ in range(10):\n",
    "    population.iterate()\n",
    "    clear_output(wait=True)\n",
    "    population.draw_network()\n",
    "    time.sleep(2)\n",
    "print(\"done\")"
   ]
  },
  {
   "cell_type": "code",
   "execution_count": null,
   "id": "f72e1b6d-741c-4fde-bc70-ca7fd4326816",
   "metadata": {},
   "outputs": [],
   "source": []
  }
 ],
 "metadata": {
  "kernelspec": {
   "display_name": "Python 3 (ipykernel)",
   "language": "python",
   "name": "python3"
  },
  "language_info": {
   "codemirror_mode": {
    "name": "ipython",
    "version": 3
   },
   "file_extension": ".py",
   "mimetype": "text/x-python",
   "name": "python",
   "nbconvert_exporter": "python",
   "pygments_lexer": "ipython3",
   "version": "3.9.2"
  }
 },
 "nbformat": 4,
 "nbformat_minor": 5
}
