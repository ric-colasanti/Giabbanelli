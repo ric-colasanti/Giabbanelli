{
 "cells": [
  {
   "cell_type": "code",
   "execution_count": 2,
   "id": "acf68425-e18c-403a-8129-f60153fcd5db",
   "metadata": {},
   "outputs": [],
   "source": [
    "import math\n",
    "import random as rnd\n",
    "import matplotlib.pyplot as plt\n",
    "import networkx as nx\n",
    "import numpy as np\n",
    "import pandas as pd\n",
    "from scipy import stats\n",
    "dbug = True"
   ]
  },
  {
   "cell_type": "code",
   "execution_count": 52,
   "id": "5892a08e-5c9c-4a2b-bd8a-5a22580559ed",
   "metadata": {},
   "outputs": [],
   "source": [
    "class Agent:\n",
    "    t_now = 0\n",
    "    t_next = 1\n",
    "    \n",
    "    @staticmethod\n",
    "    def tick():\n",
    "        Agent.t_next,Agent.t_now = Agent.t_now, Agent.t_next    \n",
    "    \n",
    "    @staticmethod\n",
    "    def reset():\n",
    "        Agent.t_now = 0\n",
    "        Agent.t_next = 1\n",
    "\n",
    "    def __init__(self,id,state):\n",
    "        self.id = id\n",
    "        self._state = [state,0]\n",
    "        self.links = []\n",
    "        \n",
    "    @property\n",
    "    def state(self):\n",
    "        return self._state[Agent.t_now]\n",
    "    \n",
    "    @state.setter\n",
    "    def state(self,state):\n",
    "        self._state[Agent.t_next] = state\n",
    "        \n",
    "    def add_link(self,agent):\n",
    "        if agent not in self.links:\n",
    "            self.links.append(agent)\n",
    "            \n",
    "    def majority(self):\n",
    "        states = [a.state for a in self.links]\n",
    "        new_state = self.state\n",
    "        if len(states)>0:\n",
    "            items = set(states)\n",
    "            max_c= 0\n",
    "            point = 0\n",
    "            for i in items:\n",
    "                c = states.count(i)\n",
    "                if c> max_c:\n",
    "                    max_c = c\n",
    "                    point = i\n",
    "            new_state = i\n",
    "        self.state = new_state \n",
    "                \n",
    "                \n",
    "                \n",
    "        \n",
    "        "
   ]
  },
  {
   "cell_type": "code",
   "execution_count": 53,
   "id": "d1449c9c-64ae-4b13-86f8-c183ce17bfde",
   "metadata": {},
   "outputs": [],
   "source": [
    "a= Agent(0,2)\n",
    "b= Agent(1,0)\n",
    "c= Agent(2,1)"
   ]
  },
  {
   "cell_type": "code",
   "execution_count": 54,
   "id": "70e4c483-f175-47ce-9bc3-9193683c2c57",
   "metadata": {},
   "outputs": [],
   "source": [
    "b.add_link(a)\n",
    "b.add_link(b)\n"
   ]
  },
  {
   "cell_type": "code",
   "execution_count": 58,
   "id": "613f020c-5d5c-4e5a-91c0-a55b4a630f39",
   "metadata": {},
   "outputs": [
    {
     "name": "stdout",
     "output_type": "stream",
     "text": [
      "2\n",
      "2\n",
      "1\n"
     ]
    }
   ],
   "source": [
    "b.majority()\n",
    "a.majority()\n",
    "c.majority()\n",
    "Agent.tick()\n",
    "print(a.state)\n",
    "print(b.state)\n",
    "print(c.state)"
   ]
  },
  {
   "cell_type": "code",
   "execution_count": 28,
   "id": "c0043f5f-070c-4f6b-a743-8aeb26d0e176",
   "metadata": {},
   "outputs": [],
   "source": [
    "a.majority()"
   ]
  },
  {
   "cell_type": "code",
   "execution_count": null,
   "id": "f2517f44-9e61-4948-93eb-e8db16a30807",
   "metadata": {},
   "outputs": [],
   "source": [
    "class Population:\n",
    "    def __init__(self,number_agents):\n",
    "        "
   ]
  }
 ],
 "metadata": {
  "kernelspec": {
   "display_name": "Python 3 (ipykernel)",
   "language": "python",
   "name": "python3"
  },
  "language_info": {
   "codemirror_mode": {
    "name": "ipython",
    "version": 3
   },
   "file_extension": ".py",
   "mimetype": "text/x-python",
   "name": "python",
   "nbconvert_exporter": "python",
   "pygments_lexer": "ipython3",
   "version": "3.7.3"
  }
 },
 "nbformat": 4,
 "nbformat_minor": 5
}
