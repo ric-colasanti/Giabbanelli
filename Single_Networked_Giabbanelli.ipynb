{
  "nbformat": 4,
  "nbformat_minor": 0,
  "metadata": {
    "colab": {
      "name": "Single Networked Giabbanelli.ipynb",
      "provenance": [],
      "authorship_tag": "ABX9TyNT6dYXCgYgq8lDUridBznn",
      "include_colab_link": true
    },
    "kernelspec": {
      "name": "python3",
      "display_name": "Python 3"
    },
    "language_info": {
      "name": "python"
    }
  },
  "cells": [
    {
      "cell_type": "markdown",
      "metadata": {
        "id": "view-in-github",
        "colab_type": "text"
      },
      "source": [
        "<a href=\"https://colab.research.google.com/github/ric-colasanti/Giabbanelli/blob/main/Single_Networked_Giabbanelli.ipynb\" target=\"_parent\"><img src=\"https://colab.research.google.com/assets/colab-badge.svg\" alt=\"Open In Colab\"/></a>"
      ]
    },
    {
      "cell_type": "code",
      "metadata": {
        "id": "uHn7CrK41KO6"
      },
      "source": [
        "import math\n",
        "import random as rnd\n",
        "import matplotlib.pyplot as plt\n",
        "from matplotlib import colors\n",
        "from IPython.display import clear_output,display, HTML\n",
        "from time import sleep\n",
        "import ipywidgets as widgets \n",
        "import networkx as nx\n",
        "import numpy as np\n",
        "from matplotlib.colors import ListedColormap\n",
        "dbug = True"
      ],
      "execution_count": null,
      "outputs": []
    },
    {
      "cell_type": "code",
      "metadata": {
        "id": "pZFeBQCmGaPf"
      },
      "source": [
        "def debug(do,str,val):\n",
        "    global dbug\n",
        "    if do and dbug :print(str,val)"
      ],
      "execution_count": null,
      "outputs": []
    },
    {
      "cell_type": "code",
      "metadata": {
        "colab": {
          "base_uri": "https://localhost:8080/",
          "height": 362
        },
        "id": "erD0P9BA1eo7",
        "outputId": "7124fef9-6084-4f1e-c3ec-e27a1adead99"
      },
      "source": [
        "html = HTML('<img src=\"https://ric-colasanti.github.io/Methods/NNM/img/img4.png\" width=\"650px\">')\n",
        "display(html)\n",
        "print(\"Giabbanelli core metabolic model\")"
      ],
      "execution_count": null,
      "outputs": [
        {
          "output_type": "display_data",
          "data": {
            "text/html": [
              "<img src=\"https://ric-colasanti.github.io/Methods/NNM/img/img4.png\" width=\"650px\">"
            ],
            "text/plain": [
              "<IPython.core.display.HTML object>"
            ]
          },
          "metadata": {}
        },
        {
          "output_type": "stream",
          "name": "stdout",
          "text": [
            "Giabbanelli core metabolic model\n"
          ]
        }
      ]
    },
    {
      "cell_type": "markdown",
      "metadata": {
        "id": "KuXXhqNq38ys"
      },
      "source": [
        "\n",
        "\n",
        "From Westerterp\n",
        "\n",
        "REE Resting energy expenditure (Mj/d)\n",
        "\n",
        "BW Body weight (kg)\n",
        "\n",
        "LM Lean mass (Kg)\n",
        "\n",
        "FM Fat mass (Kg)\n",
        "\n",
        "LM = 0.75 * BW\n",
        "\n",
        "FM = 0.25 * BW\n",
        "\n",
        "Lean mass energy expeniture\n",
        "LMee = LM * 0.102\n",
        "\n",
        "Fat mass energy expenditure\n",
        "FMee = FM * 0.024\n",
        "\n",
        "Resting energy expenditure constant\n",
        "REEc = 0.85 \n",
        "\n",
        "EI Energy intake  (Mj/d)\n",
        "\n",
        "EIee Energy expenditure from energy intake\n",
        "EI * 0.1\n",
        "\n",
        "PA Physical activity\n",
        "This is a multiplier of REE\n",
        "\n",
        "REE = LMee + FMee + REEc \n",
        "\n",
        "EE Energy expenditure (Mj/d)\n",
        "\n",
        "EE = PA * REE + EIee\n",
        "\n",
        "DE = EI - EE\n",
        "\n",
        "See *Giabbanelli, Philippe J., et al. \"Modeling the influence of social networks and environment on energy balance and obesity.\" Journal of Computational Science 3.1-2 (2012): 17-27*.[Download](https://ric-colasanti.github.io/Methods/NNM/papers/Modeling%20the%20influence%20of%20social%20networks%20and%20environment%20on%20energy%20balance%20and%20obesity.pdf)"
      ]
    },
    {
      "cell_type": "code",
      "metadata": {
        "id": "5e2F7jpcLthB"
      },
      "source": [
        "class Counter:\n",
        "  def __init__(self):\n",
        "      self.tnow =0\n",
        "      self.tnext = 1\n",
        "  def update(self):\n",
        "    # This switches the 0 1 state of now and next\n",
        "      self.tnow = (self.tnow+1) % 2\n",
        "      self.tnext = (self.tnext+1) % 2\n",
        "\n"
      ],
      "execution_count": null,
      "outputs": []
    },
    {
      "cell_type": "code",
      "metadata": {
        "id": "IzS7v1jlgVvI"
      },
      "source": [
        "class Agent:\n",
        "    def __init__(self,counter,id = \"agent\"):\n",
        "        self.links = []\n",
        "        self.id = id\n",
        "        self.number_of_links =0\n",
        "        self.counter = counter\n",
        "\n",
        "    def addBiLink(self,agent):\n",
        "        self.links.append(agent)\n",
        "        agent.links.append(self)\n",
        "        self.number_of_links+=1 \n",
        "        agent.number_of_links+=1 \n",
        "\n",
        "    def addLink(self,agent):\n",
        "        self.links.append(agent)\n",
        "        self.number_of_links+=1 \n",
        "        \n",
        "    @property\n",
        "    def tnext(self):\n",
        "        return self.counter.tnext\n",
        "\n",
        "    def printState(self):\n",
        "        txt = \"id {} \"\n",
        "        print(txt.format(self.id),end =\" \")"
      ],
      "execution_count": null,
      "outputs": []
    },
    {
      "cell_type": "code",
      "metadata": {
        "id": "dUIeq1SoOOJf"
      },
      "source": [
        "class GiabbanelliAgent (Agent):\n",
        "    env = 1.0 # uniform environmental influence\n",
        "    t_ei = 0.1 # threshold energy intake\n",
        "    t_pa = 0.1 # threshold physical activity\n",
        "    i_ei = 0.0 # impact on energy intake\n",
        "    i_pa = 0.0 # impact on physical activity\n",
        "    lm_c = 0.75 # lean mass constant\n",
        "    fm_c = 0.25 # fat mass constant\n",
        "    lm_e_c = 0.102 # lean mass energy constant\n",
        "    fm_e_c = 0.024 # fat mass energy constant\n",
        "    de_kg = 1/32.2 # energy to body mass\n",
        "    r_ee_c = 0.85 #Resting energy expenditure constant \n",
        "    tef = 0.1 # Thermic effect of food\n",
        "    \n",
        "    def __init__(self, weight,physical_activity,counter,id =\"Giabbanelli\"):\n",
        "        super().__init__(counter,id)\n",
        "        self.body_weight = weight\n",
        "        self.physical_activity_a = [physical_activity,physical_activity]\n",
        "        ei = physical_activity*self.r_ee/0.9\n",
        "        self.energy_intake_a = [ei,ei] # initial energy intake assuming constant weight\n",
        "        self.inf_pa = 0.0\n",
        "        self.inf_ei = 0.0\n",
        "\n",
        "    @property\n",
        "    def physical_activity(self):\n",
        "        debug(False,\"PA get\",self.physical_activity_a[self.counter.tnow])\n",
        "        return self.physical_activity_a[self.counter.tnow]\n",
        "\n",
        "    @physical_activity.setter\n",
        "    def physical_activity(self,value):\n",
        "        self.physical_activity_a[self.counter.tnext]=value\n",
        "        debug(False,\"PA set\",self.physical_activity_a[self.counter.tnext])\n",
        "\n",
        "    @property\n",
        "    def energy_intake(self):\n",
        "        debug(False,\"EI get\",self.energy_intake_a[self.counter.tnow])\n",
        "        return self.energy_intake_a[self.counter.tnow]\n",
        "\n",
        "    @energy_intake.setter\n",
        "    def energy_intake(self,value):\n",
        "        self.energy_intake_a[self.counter.tnext] = value\n",
        "        debug(True,\"EI Set\",self.energy_intake_a[self.counter.tnext])\n",
        "\n",
        "    @property\n",
        "    def lm(self): # Lean mass\n",
        "        return GiabbanelliAgent.lm_c * self.body_weight\n",
        "    @property\n",
        "    def fm(self): #Fat mass\n",
        "        return GiabbanelliAgent.fm_c * self.body_weight\n",
        "    \n",
        "    @property \n",
        "    def lm_ee(self):  #Lean mass energy expenditure\n",
        "        return self.lm* GiabbanelliAgent.lm_e_c\n",
        "\n",
        "    @property\n",
        "    def fm_ee(self): #Fat mass energy expenditure\n",
        "        return self.fm* GiabbanelliAgent.fm_e_c\n",
        "\n",
        "    @property\n",
        "    def r_ee(self): #Resting energy expenditure \n",
        "        return self.lm_ee + self.fm_ee + GiabbanelliAgent.r_ee_c\n",
        "\n",
        "    def calcInfluence(self):\n",
        "        self.inf_pa = 0.0\n",
        "        self.inf_ei = 0.0\n",
        "        if len(self.links)>0:\n",
        "            #print(len(self.links))\n",
        "            for agent in self.links:\n",
        "                self.inf_pa += agent.physical_activity - self.physical_activity\n",
        "                self.inf_ei += agent.energy_intake - self.energy_intake\n",
        "            self.inf_pa = self.inf_pa/self.number_of_links\n",
        "            self.inf_ei = self.inf_ei/self.number_of_links\n",
        "        \n",
        "        \n",
        "    def nextPA(self):# Physical activity\n",
        "        debug(True,\"inf_pa\",self.inf_pa)\n",
        "        inf_pa_env=0\n",
        "        # Environmental effect\n",
        "        if self.inf_pa>=0:\n",
        "            inf_pa_env = GiabbanelliAgent.env*self.inf_pa\n",
        "        else:\n",
        "            inf_pa_env = self.inf_pa/GiabbanelliAgent.env\n",
        "\n",
        "\n",
        "        # if pos link_influence is above the  threshold the add influence * intake\n",
        "        if inf_pa_env>= GiabbanelliAgent.t_pa * self.physical_activity:\n",
        "            self.physical_activity = self.physical_activity + (GiabbanelliAgent.i_pa * self.physical_activity)\n",
        "        # if neg link_influence is below the  neg threshold the subtract influence * intake\n",
        "        elif inf_pa_env<= -GiabbanelliAgent.t_pa * self.physical_activity:\n",
        "            self.physical_activity = self.physical_activity - (GiabbanelliAgent.i_pa * self.physical_activity)\n",
        "        else:\n",
        "            self.physical_activity = self.physical_activity  # do not change\n",
        "        \n",
        "    def nextEI(self): # energy intake\n",
        "        inf_ei_env=0\n",
        "        # Environmental effect\n",
        "        if self.inf_ei<0:\n",
        "            inf_ei_env = GiabbanelliAgent.env*self.inf_ei\n",
        "        else:\n",
        "            inf_ei_env = self.inf_ei/GiabbanelliAgent.env\n",
        "        \n",
        "        # if pos link_influence is above the  threshold the add influence * intake\n",
        "        if inf_ei_env>= GiabbanelliAgent.t_pa * self.energy_intake:  \n",
        "            self.energy_intake = self.energy_intake + (GiabbanelliAgent.i_ei * self.energy_intake)\n",
        "        # if neg link_influence is below the  neg threshold the subtract influence * intake\n",
        "        elif inf_ei_env<= - GiabbanelliAgent.t_pa * self.energy_intake:\n",
        "            self.energy_intake = self.energy_intake - (GiabbanelliAgent.i_ei * self.energy_intake)\n",
        "        else:\n",
        "            self.energy_intake = self.energy_intake # do not change\n",
        "\n",
        "    def updateBodyWeight(self):\n",
        "        ei_ee =  self.energy_intake * GiabbanelliAgent.tef  #Energy expenditure from energy intake \n",
        "        ee = self.physical_activity * self.r_ee + ei_ee # Energy expenditure\n",
        "        de = self.energy_intake - ee # Differance in energy expenditure and energy intake\n",
        "        self.body_weight += de* GiabbanelliAgent.de_kg # Change in body mass\n",
        "        txt = \"LM: {:.3f} FM: {:.3f} EEei: {:.3f} REE: {:.3f} EI-EE: {:.3f} \"\n",
        "        #print(txt.format(self.lm,self.fm,ei_ee,ee,de))\n",
        "\n",
        "    def iterate(self):\n",
        "        self.updateBodyWeight()\n",
        "        self.calcInfluence()\n",
        "        self.nextEI()\n",
        "        self.nextPA()\n",
        "        \n",
        "    \n",
        "    def printState(self):\n",
        "        super().printState()\n",
        "        txt = \"Weight: {:.5f} Energy intake: {:.3f} Physical activity: {:.3f} \"\n",
        "        print(txt.format(self.body_weight,self.energy_intake,self.physical_activity))\n",
        "\n",
        "\n",
        "\n",
        "        "
      ],
      "execution_count": null,
      "outputs": []
    },
    {
      "cell_type": "markdown",
      "metadata": {
        "id": "DsVH-ZOYu5Ak"
      },
      "source": [
        "Google sheet of the Giabbanelli metabolic model\n",
        "\n"
      ]
    },
    {
      "cell_type": "code",
      "metadata": {
        "id": "TKRPJ7NDlwsU",
        "colab": {
          "base_uri": "https://localhost:8080/",
          "height": 175
        },
        "outputId": "63e66de1-52e9-4183-8214-6b8b9b2abd71"
      },
      "source": [
        "html = HTML('<iframe width=1100 src=\"https://docs.google.com/spreadsheets/d/e/2PACX-1vTKrDU9a9es3i48IvHuWyPRqbHgJ3I5Qjmh4GLHx9xlLAq9y60jSkfndS9pAwfNVbFHNMCoDchLyuW-/pubhtml?gid=0&amp;single=true&amp;widget=true&amp;headers=false\"></iframe>')\n",
        "display(html)"
      ],
      "execution_count": null,
      "outputs": [
        {
          "output_type": "display_data",
          "data": {
            "text/html": [
              "<iframe width=1100 src=\"https://docs.google.com/spreadsheets/d/e/2PACX-1vTKrDU9a9es3i48IvHuWyPRqbHgJ3I5Qjmh4GLHx9xlLAq9y60jSkfndS9pAwfNVbFHNMCoDchLyuW-/pubhtml?gid=0&amp;single=true&amp;widget=true&amp;headers=false\"></iframe>"
            ],
            "text/plain": [
              "<IPython.core.display.HTML object>"
            ]
          },
          "metadata": {}
        }
      ]
    },
    {
      "cell_type": "code",
      "metadata": {
        "colab": {
          "base_uri": "https://localhost:8080/",
          "height": 418
        },
        "id": "7G3m85gLuW_U",
        "outputId": "f6c64065-1928-47e3-e6b2-0a4c66a2e93b"
      },
      "source": [
        "counter = Counter()\n",
        "dbug = False\n",
        "testAgent = GiabbanelliAgent(77.1,1.52,counter,\"subject\")\n",
        "testAgent.printState()\n",
        "print(\"Increse energy intake by 10%\")\n",
        "testAgent.energy_intake_a[0]+=testAgent.energy_intake*0.1\n",
        "testAgent.energy_intake_a[1]+=testAgent.energy_intake*0.1\n",
        "testAgent.printState()\n",
        "time = []\n",
        "wdata=[]\n",
        "iterations = 720\n",
        "for t in range(iterations):\n",
        "    testAgent.updateBodyWeight()\n",
        "    time.append(t)\n",
        "    if t<5:\n",
        "        testAgent.printState()\n",
        "    wdata.append(testAgent.body_weight)\n",
        "plt.plot(time,wdata)\n",
        "plt.xlim([0,iterations])\n",
        "plt.xlabel(\"Iterations Days\")\n",
        "plt.ylabel(\"Body weight Kg\")\n",
        "plt.show()\n"
      ],
      "execution_count": null,
      "outputs": [
        {
          "output_type": "stream",
          "name": "stdout",
          "text": [
            "id subject  Weight: 77.10000 Energy intake: 12.178 Physical activity: 1.520 \n",
            "Increse energy intake by 10%\n",
            "id subject  Weight: 77.10000 Energy intake: 13.396 Physical activity: 1.520 \n",
            "id subject  Weight: 77.13404 Energy intake: 13.396 Physical activity: 1.520 \n",
            "id subject  Weight: 77.16794 Energy intake: 13.396 Physical activity: 1.520 \n",
            "id subject  Weight: 77.20172 Energy intake: 13.396 Physical activity: 1.520 \n",
            "id subject  Weight: 77.23536 Energy intake: 13.396 Physical activity: 1.520 \n",
            "id subject  Weight: 77.26887 Energy intake: 13.396 Physical activity: 1.520 \n"
          ]
        },
        {
          "output_type": "display_data",
          "data": {
            "image/png": "[encoded data removed]",
            "text/plain": [
              "<Figure size 432x288 with 1 Axes>"
            ]
          },
          "metadata": {
            "needs_background": "light"
          }
        }
      ]
    },
    {
      "cell_type": "code",
      "metadata": {
        "colab": {
          "base_uri": "https://localhost:8080/",
          "height": 175
        },
        "id": "O9CvWkLC_JTm",
        "outputId": "41f00e83-5b16-4e41-d2ec-e98c3b0e4db8"
      },
      "source": [
        "html = HTML('<iframe width=1100 src=\"https://docs.google.com/spreadsheets/d/e/2PACX-1vTKrDU9a9es3i48IvHuWyPRqbHgJ3I5Qjmh4GLHx9xlLAq9y60jSkfndS9pAwfNVbFHNMCoDchLyuW-/pubhtml?gid=1094961935&amp;single=true&amp;widget=true&amp;headers=false\"></iframe>')\n",
        "display(html)"
      ],
      "execution_count": null,
      "outputs": [
        {
          "output_type": "display_data",
          "data": {
            "text/html": [
              "<iframe width=1100 src=\"https://docs.google.com/spreadsheets/d/e/2PACX-1vTKrDU9a9es3i48IvHuWyPRqbHgJ3I5Qjmh4GLHx9xlLAq9y60jSkfndS9pAwfNVbFHNMCoDchLyuW-/pubhtml?gid=1094961935&amp;single=true&amp;widget=true&amp;headers=false\"></iframe>"
            ],
            "text/plain": [
              "<IPython.core.display.HTML object>"
            ]
          },
          "metadata": {}
        }
      ]
    },
    {
      "cell_type": "code",
      "metadata": {
        "colab": {
          "base_uri": "https://localhost:8080/",
          "height": 418
        },
        "id": "qbKvSkAk_Jfc",
        "outputId": "1bd0950c-0968-4947-cadc-b24233da24b1"
      },
      "source": [
        "counter = Counter()\n",
        "dbug = False\n",
        "testAgent = GiabbanelliAgent(77.1,1.52,counter,\"subject\")\n",
        "testAgent.printState()\n",
        "print(\"Increse PA intake by 10%\")\n",
        "testAgent.physical_activity_a[0]+=testAgent.physical_activity*0.1\n",
        "testAgent.physical_activity_a[1]+=testAgent.physical_activity*0.1\n",
        "testAgent.printState()\n",
        "time = []\n",
        "wdata=[]\n",
        "iterations = 720\n",
        "for t in range(iterations):\n",
        "    testAgent.updateBodyWeight()\n",
        "    time.append(t)\n",
        "    if t<5:\n",
        "        testAgent.printState()\n",
        "    wdata.append(testAgent.body_weight)\n",
        "plt.plot(time,wdata)\n",
        "plt.xlim([0,iterations])\n",
        "plt.xlabel(\"Iterations Days\")\n",
        "plt.ylabel(\"Body weight Kg\")\n",
        "plt.show()"
      ],
      "execution_count": null,
      "outputs": [
        {
          "output_type": "stream",
          "name": "stdout",
          "text": [
            "id subject  Weight: 77.10000 Energy intake: 12.178 Physical activity: 1.520 \n",
            "Increse PA intake by 10%\n",
            "id subject  Weight: 77.10000 Energy intake: 12.178 Physical activity: 1.672 \n",
            "id subject  Weight: 77.06596 Energy intake: 12.178 Physical activity: 1.672 \n",
            "id subject  Weight: 77.03207 Energy intake: 12.178 Physical activity: 1.672 \n",
            "id subject  Weight: 76.99832 Energy intake: 12.178 Physical activity: 1.672 \n",
            "id subject  Weight: 76.96472 Energy intake: 12.178 Physical activity: 1.672 \n",
            "id subject  Weight: 76.93126 Energy intake: 12.178 Physical activity: 1.672 \n"
          ]
        },
        {
          "output_type": "display_data",
          "data": {
            "image/png": "[encoded data removed]",
            "text/plain": [
              "<Figure size 432x288 with 1 Axes>"
            ]
          },
          "metadata": {
            "needs_background": "light"
          }
        }
      ]
    },
    {
      "cell_type": "code",
      "metadata": {
        "colab": {
          "base_uri": "https://localhost:8080/",
          "height": 403
        },
        "id": "Zuu_Ewln_zgo",
        "outputId": "5409353b-8cb4-44f0-cc4f-e59ed60036e1"
      },
      "source": [
        "counter = Counter()\n",
        "testAgent =  GiabbanelliAgent(77.1,1.52,counter,\"subject\")\n",
        "testAgent.printState()\n",
        "testConnect= GiabbanelliAgent(70.1,1.8,counter,\"contact\")\n",
        "#testConnect.energy_intake_a = testAgent.energy_intake_a\n",
        "testConnect.printState()\n",
        "testAgent.addLink(testConnect)\n",
        "testAgent.addLink(testConnect)\n",
        "testAgent.addLink(testConnect)\n",
        "testAgent.addLink(testConnect)\n",
        "\n",
        "print()\n",
        "dbug=0\n",
        "GiabbanelliAgent.env = 0.93 # uniform environmental influence\n",
        "GiabbanelliAgent.t_ei = 0.06# threshold energy intake\n",
        "GiabbanelliAgent.t_pa = 0.06 # threshold physical activity\n",
        "GiabbanelliAgent.i_ei = 0.05 # impact on energy intake\n",
        "GiabbanelliAgent.i_pa = 0.05 # impact on physical activity\n",
        "\n",
        "time = []\n",
        "wdata=[]\n",
        "pdata=[]\n",
        "edata=[]\n",
        "iterations=1600\n",
        "\n",
        "for t in range(iterations):\n",
        "    #testAgent.printState()\n",
        "    #testConnect.printState()\n",
        "    testAgent.iterate()\n",
        "    #print(\"-\")\n",
        "    counter.update()\n",
        "    bw = testAgent.body_weight\n",
        "    pa = testAgent.physical_activity\n",
        "    ei = testAgent.energy_intake\n",
        "    time.append(t)\n",
        "    wdata.append(bw)\n",
        "    pdata.append(pa)\n",
        "    edata.append(ei)\n",
        "    #print()\n",
        "print()\n",
        "if 1:\n",
        "    plt.rcParams[\"figure.figsize\"] = (20,5)\n",
        "\n",
        "    plt.subplot(1,3,1)\n",
        "    plt.plot(time,wdata)\n",
        "    plt.xlim([0,iterations])\n",
        "    plt.xlabel(\"Iterations Days\")\n",
        "    plt.ylabel(\"Body weight Kg\")\n",
        "\n",
        "    plt.subplot(1,3,2)\n",
        "    plt.plot(time,pdata)\n",
        "    plt.xlim([0,iterations])\n",
        "    plt.xlabel(\"Iterations Days\")\n",
        "    plt.ylabel(\"Physical Activity\")\n",
        "\n",
        "    plt.subplot(1,3,3)\n",
        "    plt.plot(time,edata)\n",
        "    plt.xlim([0,iterations])\n",
        "    plt.xlabel(\"Iterations Days\")\n",
        "    plt.ylabel(\"Energy intake\")"
      ],
      "execution_count": null,
      "outputs": [
        {
          "output_type": "stream",
          "name": "stdout",
          "text": [
            "id subject  Weight: 77.10000 Energy intake: 12.178 Physical activity: 1.520 \n",
            "id contact  Weight: 70.10000 Energy intake: 13.266 Physical activity: 1.800 \n",
            "\n",
            "\n"
          ]
        },
        {
          "output_type": "display_data",
          "data": {
            "image/png": "[encoded data removed]",
            "text/plain": [
              "<Figure size 1440x360 with 3 Axes>"
            ]
          },
          "metadata": {
            "needs_background": "light"
          }
        }
      ]
    },
    {
      "cell_type": "code",
      "metadata": {
        "id": "BduAVoEB9j5r"
      },
      "source": [
        "class Experiment():\n",
        "    def __init__(self):        \n",
        "        self.graph = nx.Graph(directed=False)#undirected\n",
        "        self.agents = []\n",
        "        self.total_agents =0\n",
        "        self.pos = None # graph pos\n",
        "        self.counter = Counter()\n",
        "    \n",
        "    def connect(self, c,n):\n",
        "        self.agents[c].addLink(self.agents[n])\n",
        "        self.graph.add_edge(c,n)\n",
        "\n",
        "    def setup(self,sub_weight,sub_activity,obease_weight,obease_pa,non_obease_weight,non_obease_pa,num_obease):\n",
        "        subject = GiabbanelliAgent(sub_weight,sub_activity,self.counter)\n",
        "        self.agents.append(subject)\n",
        "        for i in range(1,5):\n",
        "            if i <= num_obease:\n",
        "                agent = GiabbanelliAgent(obease_weight,obease_pa,self.counter)\n",
        "            else:\n",
        "                agent = GiabbanelliAgent(non_obease_weight,non_obease_pa,self.counter)    \n",
        "            self.agents.append(agent)\n",
        "            self.connect(0,i)\n",
        "        self.pos = nx.spring_layout(self.graph)\n",
        "        \n",
        "\n",
        "    def getResultMatrix(self):\n",
        "        weight = [] \n",
        "        activity = [] \n",
        "        intake = [] \n",
        "        for agent in self.agents:\n",
        "            weight.append(agent.body_weight)  \n",
        "            activity.append(agent.physical_activity)  \n",
        "            intake.append(agent.energy_intake)  \n",
        "        return weight,activity,intake \n",
        "\n",
        "    def run(self,iterations):\n",
        "        time = []\n",
        "        wdata=[]\n",
        "        pdata=[]\n",
        "        edata=[]\n",
        "        for t in range(iterations+1):\n",
        "            weights,activity,intake = self.getResultMatrix()\n",
        "            \n",
        "            plt.rcParams[\"figure.figsize\"] = (30,10)\n",
        "            self.agents[0].iterate()\n",
        "            bw = self.agents[0].body_weight\n",
        "            pa = self.agents[0].physical_activity\n",
        "            ei = self.agents[0].energy_intake\n",
        "            time.append(t)\n",
        "            wdata.append(bw)\n",
        "            pdata.append(pa)\n",
        "            edata.append(ei)\n",
        "            self.counter.update()\n",
        "            if t % 10 != 100:\n",
        "                clear_output(wait=True)\n",
        "                plt.rcParams[\"figure.figsize\"] = (20,10)\n",
        "                plt.subplot(2,2,1)\n",
        "                nx.draw(self.graph,pos=self.pos,width=0.3,node_size=weights,arrows=True)\n",
        "            \n",
        "                plt.subplot(2,2,2)\n",
        "                plt.plot(time,wdata)\n",
        "                plt.xlim([0,iterations])\n",
        "                plt.xlabel(\"Iterations Days\")\n",
        "                plt.ylabel(\"Body weight Kg\")\n",
        "                \n",
        "                plt.subplot(2,2,3)\n",
        "                plt.plot(time,pdata)\n",
        "                plt.xlim([0,iterations])\n",
        "                plt.xlabel(\"Iterations Days\")\n",
        "                plt.ylabel(\"Physical Activity\")\n",
        "                \n",
        "                plt.subplot(2,2,4)\n",
        "                plt.plot(time,edata)\n",
        "                plt.xlim([0,iterations])\n",
        "                plt.xlabel(\"Iterations Days\")\n",
        "                plt.ylabel(\"Energy intake\")\n",
        "                \n",
        "            plt.show()\n",
        "            \n"
      ],
      "execution_count": null,
      "outputs": []
    },
    {
      "cell_type": "code",
      "metadata": {
        "id": "DpBiwuDp4Sql"
      },
      "source": [
        "\\"
      ],
      "execution_count": null,
      "outputs": []
    }
  ]
}